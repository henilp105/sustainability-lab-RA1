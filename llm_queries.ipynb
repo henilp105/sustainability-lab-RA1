{
  "cells": [
    {
      "cell_type": "code",
      "execution_count": 1,
      "id": "d4aa5c60-7bb4-408c-9386-666a09e1fdaa",
      "metadata": {
        "colab": {
          "base_uri": "https://localhost:8080/",
          "height": 0
        },
        "id": "d4aa5c60-7bb4-408c-9386-666a09e1fdaa",
        "outputId": "e03f79b9-3716-4f0f-9700-46bd07600d89"
      },
      "outputs": [
        {
          "output_type": "stream",
          "name": "stdout",
          "text": [
            "--2025-07-31 06:52:49--  https://archive.ics.uci.edu/ml/machine-learning-databases/00235/household_power_consumption.zip\n",
            "Resolving archive.ics.uci.edu (archive.ics.uci.edu)... 128.195.10.252\n",
            "Connecting to archive.ics.uci.edu (archive.ics.uci.edu)|128.195.10.252|:443... connected.\n",
            "HTTP request sent, awaiting response... 200 OK\n",
            "Length: unspecified\n",
            "Saving to: ‘household_power_consumption.zip’\n",
            "\n",
            "household_power_con     [     <=>            ]  19.68M  22.2MB/s    in 0.9s    \n",
            "\n",
            "2025-07-31 06:52:50 (22.2 MB/s) - ‘household_power_consumption.zip’ saved [20640916]\n",
            "\n",
            "Archive:  household_power_consumption.zip\n",
            "  inflating: household_power_consumption.txt  \n",
            "Collecting groq\n",
            "  Downloading groq-0.30.0-py3-none-any.whl.metadata (16 kB)\n",
            "Requirement already satisfied: anyio<5,>=3.5.0 in /usr/local/lib/python3.11/dist-packages (from groq) (4.9.0)\n",
            "Requirement already satisfied: distro<2,>=1.7.0 in /usr/local/lib/python3.11/dist-packages (from groq) (1.9.0)\n",
            "Requirement already satisfied: httpx<1,>=0.23.0 in /usr/local/lib/python3.11/dist-packages (from groq) (0.28.1)\n",
            "Requirement already satisfied: pydantic<3,>=1.9.0 in /usr/local/lib/python3.11/dist-packages (from groq) (2.11.7)\n",
            "Requirement already satisfied: sniffio in /usr/local/lib/python3.11/dist-packages (from groq) (1.3.1)\n",
            "Requirement already satisfied: typing-extensions<5,>=4.10 in /usr/local/lib/python3.11/dist-packages (from groq) (4.14.1)\n",
            "Requirement already satisfied: idna>=2.8 in /usr/local/lib/python3.11/dist-packages (from anyio<5,>=3.5.0->groq) (3.10)\n",
            "Requirement already satisfied: certifi in /usr/local/lib/python3.11/dist-packages (from httpx<1,>=0.23.0->groq) (2025.7.14)\n",
            "Requirement already satisfied: httpcore==1.* in /usr/local/lib/python3.11/dist-packages (from httpx<1,>=0.23.0->groq) (1.0.9)\n",
            "Requirement already satisfied: h11>=0.16 in /usr/local/lib/python3.11/dist-packages (from httpcore==1.*->httpx<1,>=0.23.0->groq) (0.16.0)\n",
            "Requirement already satisfied: annotated-types>=0.6.0 in /usr/local/lib/python3.11/dist-packages (from pydantic<3,>=1.9.0->groq) (0.7.0)\n",
            "Requirement already satisfied: pydantic-core==2.33.2 in /usr/local/lib/python3.11/dist-packages (from pydantic<3,>=1.9.0->groq) (2.33.2)\n",
            "Requirement already satisfied: typing-inspection>=0.4.0 in /usr/local/lib/python3.11/dist-packages (from pydantic<3,>=1.9.0->groq) (0.4.1)\n",
            "Downloading groq-0.30.0-py3-none-any.whl (131 kB)\n",
            "\u001b[2K   \u001b[90m━━━━━━━━━━━━━━━━━━━━━━━━━━━━━━━━━━━━━━━━\u001b[0m \u001b[32m131.1/131.1 kB\u001b[0m \u001b[31m8.0 MB/s\u001b[0m eta \u001b[36m0:00:00\u001b[0m\n",
            "\u001b[?25hInstalling collected packages: groq\n",
            "Successfully installed groq-0.30.0\n"
          ]
        }
      ],
      "source": [
        "!wget https://archive.ics.uci.edu/ml/machine-learning-databases/00235/household_power_consumption.zip\n",
        "!unzip household_power_consumption.zip\n",
        "!pip install groq"
      ]
    },
    {
      "cell_type": "code",
      "execution_count": 2,
      "id": "73c01046-4988-4fe2-aa31-912fb22d3904",
      "metadata": {
        "id": "73c01046-4988-4fe2-aa31-912fb22d3904"
      },
      "outputs": [],
      "source": [
        "import pandas as pd\n",
        "import seaborn as sns\n",
        "\n",
        "def load_data():\n",
        "    df = pd.read_csv('household_power_consumption.txt',\n",
        "                     sep=';',\n",
        "                     parse_dates={'datetime': ['Date', 'Time']},\n",
        "                     infer_datetime_format=True,\n",
        "                     na_values=['?'],\n",
        "                     low_memory=False)\n",
        "\n",
        "    df = df.dropna()\n",
        "    df['Global_active_power'] = df['Global_active_power'].astype(float)\n",
        "    df = df.set_index('datetime')\n",
        "    return df"
      ]
    },
    {
      "cell_type": "code",
      "execution_count": 3,
      "id": "5243a57c-e99b-4c7f-83e9-aa6da3165868",
      "metadata": {
        "colab": {
          "base_uri": "https://localhost:8080/",
          "height": 362
        },
        "id": "5243a57c-e99b-4c7f-83e9-aa6da3165868",
        "outputId": "5536c298-d34b-4cc9-cc4a-372233be96a7"
      },
      "outputs": [
        {
          "output_type": "stream",
          "name": "stderr",
          "text": [
            "/tmp/ipython-input-2444791740.py:5: FutureWarning: Support for nested sequences for 'parse_dates' in pd.read_csv is deprecated. Combine the desired columns with pd.to_datetime after parsing instead.\n",
            "  df = pd.read_csv('household_power_consumption.txt',\n",
            "/tmp/ipython-input-2444791740.py:5: FutureWarning: The argument 'infer_datetime_format' is deprecated and will be removed in a future version. A strict version of it is now the default, see https://pandas.pydata.org/pdeps/0004-consistent-to-datetime-parsing.html. You can safely remove this argument.\n",
            "  df = pd.read_csv('household_power_consumption.txt',\n",
            "/tmp/ipython-input-2444791740.py:5: UserWarning: Parsing dates in %d/%m/%Y %H:%M:%S format when dayfirst=False (the default) was specified. Pass `dayfirst=True` or specify a format to silence this warning.\n",
            "  df = pd.read_csv('household_power_consumption.txt',\n"
          ]
        },
        {
          "output_type": "execute_result",
          "data": {
            "text/plain": [
              "                     Global_active_power  Global_reactive_power  Voltage  \\\n",
              "datetime                                                                   \n",
              "2006-12-16 17:24:00                4.216                  0.418   234.84   \n",
              "2006-12-16 17:25:00                5.360                  0.436   233.63   \n",
              "2006-12-16 17:26:00                5.374                  0.498   233.29   \n",
              "2006-12-16 17:27:00                5.388                  0.502   233.74   \n",
              "2006-12-16 17:28:00                3.666                  0.528   235.68   \n",
              "\n",
              "                     Global_intensity  Sub_metering_1  Sub_metering_2  \\\n",
              "datetime                                                                \n",
              "2006-12-16 17:24:00              18.4             0.0             1.0   \n",
              "2006-12-16 17:25:00              23.0             0.0             1.0   \n",
              "2006-12-16 17:26:00              23.0             0.0             2.0   \n",
              "2006-12-16 17:27:00              23.0             0.0             1.0   \n",
              "2006-12-16 17:28:00              15.8             0.0             1.0   \n",
              "\n",
              "                     Sub_metering_3  \n",
              "datetime                             \n",
              "2006-12-16 17:24:00            17.0  \n",
              "2006-12-16 17:25:00            16.0  \n",
              "2006-12-16 17:26:00            17.0  \n",
              "2006-12-16 17:27:00            17.0  \n",
              "2006-12-16 17:28:00            17.0  "
            ],
            "text/html": [
              "\n",
              "  <div id=\"df-ee3cb3c8-27cf-4f46-b29c-4a49b70c20af\" class=\"colab-df-container\">\n",
              "    <div>\n",
              "<style scoped>\n",
              "    .dataframe tbody tr th:only-of-type {\n",
              "        vertical-align: middle;\n",
              "    }\n",
              "\n",
              "    .dataframe tbody tr th {\n",
              "        vertical-align: top;\n",
              "    }\n",
              "\n",
              "    .dataframe thead th {\n",
              "        text-align: right;\n",
              "    }\n",
              "</style>\n",
              "<table border=\"1\" class=\"dataframe\">\n",
              "  <thead>\n",
              "    <tr style=\"text-align: right;\">\n",
              "      <th></th>\n",
              "      <th>Global_active_power</th>\n",
              "      <th>Global_reactive_power</th>\n",
              "      <th>Voltage</th>\n",
              "      <th>Global_intensity</th>\n",
              "      <th>Sub_metering_1</th>\n",
              "      <th>Sub_metering_2</th>\n",
              "      <th>Sub_metering_3</th>\n",
              "    </tr>\n",
              "    <tr>\n",
              "      <th>datetime</th>\n",
              "      <th></th>\n",
              "      <th></th>\n",
              "      <th></th>\n",
              "      <th></th>\n",
              "      <th></th>\n",
              "      <th></th>\n",
              "      <th></th>\n",
              "    </tr>\n",
              "  </thead>\n",
              "  <tbody>\n",
              "    <tr>\n",
              "      <th>2006-12-16 17:24:00</th>\n",
              "      <td>4.216</td>\n",
              "      <td>0.418</td>\n",
              "      <td>234.84</td>\n",
              "      <td>18.4</td>\n",
              "      <td>0.0</td>\n",
              "      <td>1.0</td>\n",
              "      <td>17.0</td>\n",
              "    </tr>\n",
              "    <tr>\n",
              "      <th>2006-12-16 17:25:00</th>\n",
              "      <td>5.360</td>\n",
              "      <td>0.436</td>\n",
              "      <td>233.63</td>\n",
              "      <td>23.0</td>\n",
              "      <td>0.0</td>\n",
              "      <td>1.0</td>\n",
              "      <td>16.0</td>\n",
              "    </tr>\n",
              "    <tr>\n",
              "      <th>2006-12-16 17:26:00</th>\n",
              "      <td>5.374</td>\n",
              "      <td>0.498</td>\n",
              "      <td>233.29</td>\n",
              "      <td>23.0</td>\n",
              "      <td>0.0</td>\n",
              "      <td>2.0</td>\n",
              "      <td>17.0</td>\n",
              "    </tr>\n",
              "    <tr>\n",
              "      <th>2006-12-16 17:27:00</th>\n",
              "      <td>5.388</td>\n",
              "      <td>0.502</td>\n",
              "      <td>233.74</td>\n",
              "      <td>23.0</td>\n",
              "      <td>0.0</td>\n",
              "      <td>1.0</td>\n",
              "      <td>17.0</td>\n",
              "    </tr>\n",
              "    <tr>\n",
              "      <th>2006-12-16 17:28:00</th>\n",
              "      <td>3.666</td>\n",
              "      <td>0.528</td>\n",
              "      <td>235.68</td>\n",
              "      <td>15.8</td>\n",
              "      <td>0.0</td>\n",
              "      <td>1.0</td>\n",
              "      <td>17.0</td>\n",
              "    </tr>\n",
              "  </tbody>\n",
              "</table>\n",
              "</div>\n",
              "    <div class=\"colab-df-buttons\">\n",
              "\n",
              "  <div class=\"colab-df-container\">\n",
              "    <button class=\"colab-df-convert\" onclick=\"convertToInteractive('df-ee3cb3c8-27cf-4f46-b29c-4a49b70c20af')\"\n",
              "            title=\"Convert this dataframe to an interactive table.\"\n",
              "            style=\"display:none;\">\n",
              "\n",
              "  <svg xmlns=\"http://www.w3.org/2000/svg\" height=\"24px\" viewBox=\"0 -960 960 960\">\n",
              "    <path d=\"M120-120v-720h720v720H120Zm60-500h600v-160H180v160Zm220 220h160v-160H400v160Zm0 220h160v-160H400v160ZM180-400h160v-160H180v160Zm440 0h160v-160H620v160ZM180-180h160v-160H180v160Zm440 0h160v-160H620v160Z\"/>\n",
              "  </svg>\n",
              "    </button>\n",
              "\n",
              "  <style>\n",
              "    .colab-df-container {\n",
              "      display:flex;\n",
              "      gap: 12px;\n",
              "    }\n",
              "\n",
              "    .colab-df-convert {\n",
              "      background-color: #E8F0FE;\n",
              "      border: none;\n",
              "      border-radius: 50%;\n",
              "      cursor: pointer;\n",
              "      display: none;\n",
              "      fill: #1967D2;\n",
              "      height: 32px;\n",
              "      padding: 0 0 0 0;\n",
              "      width: 32px;\n",
              "    }\n",
              "\n",
              "    .colab-df-convert:hover {\n",
              "      background-color: #E2EBFA;\n",
              "      box-shadow: 0px 1px 2px rgba(60, 64, 67, 0.3), 0px 1px 3px 1px rgba(60, 64, 67, 0.15);\n",
              "      fill: #174EA6;\n",
              "    }\n",
              "\n",
              "    .colab-df-buttons div {\n",
              "      margin-bottom: 4px;\n",
              "    }\n",
              "\n",
              "    [theme=dark] .colab-df-convert {\n",
              "      background-color: #3B4455;\n",
              "      fill: #D2E3FC;\n",
              "    }\n",
              "\n",
              "    [theme=dark] .colab-df-convert:hover {\n",
              "      background-color: #434B5C;\n",
              "      box-shadow: 0px 1px 3px 1px rgba(0, 0, 0, 0.15);\n",
              "      filter: drop-shadow(0px 1px 2px rgba(0, 0, 0, 0.3));\n",
              "      fill: #FFFFFF;\n",
              "    }\n",
              "  </style>\n",
              "\n",
              "    <script>\n",
              "      const buttonEl =\n",
              "        document.querySelector('#df-ee3cb3c8-27cf-4f46-b29c-4a49b70c20af button.colab-df-convert');\n",
              "      buttonEl.style.display =\n",
              "        google.colab.kernel.accessAllowed ? 'block' : 'none';\n",
              "\n",
              "      async function convertToInteractive(key) {\n",
              "        const element = document.querySelector('#df-ee3cb3c8-27cf-4f46-b29c-4a49b70c20af');\n",
              "        const dataTable =\n",
              "          await google.colab.kernel.invokeFunction('convertToInteractive',\n",
              "                                                    [key], {});\n",
              "        if (!dataTable) return;\n",
              "\n",
              "        const docLinkHtml = 'Like what you see? Visit the ' +\n",
              "          '<a target=\"_blank\" href=https://colab.research.google.com/notebooks/data_table.ipynb>data table notebook</a>'\n",
              "          + ' to learn more about interactive tables.';\n",
              "        element.innerHTML = '';\n",
              "        dataTable['output_type'] = 'display_data';\n",
              "        await google.colab.output.renderOutput(dataTable, element);\n",
              "        const docLink = document.createElement('div');\n",
              "        docLink.innerHTML = docLinkHtml;\n",
              "        element.appendChild(docLink);\n",
              "      }\n",
              "    </script>\n",
              "  </div>\n",
              "\n",
              "\n",
              "    <div id=\"df-2eb79101-2ab6-443d-bb69-d58ddc9ca453\">\n",
              "      <button class=\"colab-df-quickchart\" onclick=\"quickchart('df-2eb79101-2ab6-443d-bb69-d58ddc9ca453')\"\n",
              "                title=\"Suggest charts\"\n",
              "                style=\"display:none;\">\n",
              "\n",
              "<svg xmlns=\"http://www.w3.org/2000/svg\" height=\"24px\"viewBox=\"0 0 24 24\"\n",
              "     width=\"24px\">\n",
              "    <g>\n",
              "        <path d=\"M19 3H5c-1.1 0-2 .9-2 2v14c0 1.1.9 2 2 2h14c1.1 0 2-.9 2-2V5c0-1.1-.9-2-2-2zM9 17H7v-7h2v7zm4 0h-2V7h2v10zm4 0h-2v-4h2v4z\"/>\n",
              "    </g>\n",
              "</svg>\n",
              "      </button>\n",
              "\n",
              "<style>\n",
              "  .colab-df-quickchart {\n",
              "      --bg-color: #E8F0FE;\n",
              "      --fill-color: #1967D2;\n",
              "      --hover-bg-color: #E2EBFA;\n",
              "      --hover-fill-color: #174EA6;\n",
              "      --disabled-fill-color: #AAA;\n",
              "      --disabled-bg-color: #DDD;\n",
              "  }\n",
              "\n",
              "  [theme=dark] .colab-df-quickchart {\n",
              "      --bg-color: #3B4455;\n",
              "      --fill-color: #D2E3FC;\n",
              "      --hover-bg-color: #434B5C;\n",
              "      --hover-fill-color: #FFFFFF;\n",
              "      --disabled-bg-color: #3B4455;\n",
              "      --disabled-fill-color: #666;\n",
              "  }\n",
              "\n",
              "  .colab-df-quickchart {\n",
              "    background-color: var(--bg-color);\n",
              "    border: none;\n",
              "    border-radius: 50%;\n",
              "    cursor: pointer;\n",
              "    display: none;\n",
              "    fill: var(--fill-color);\n",
              "    height: 32px;\n",
              "    padding: 0;\n",
              "    width: 32px;\n",
              "  }\n",
              "\n",
              "  .colab-df-quickchart:hover {\n",
              "    background-color: var(--hover-bg-color);\n",
              "    box-shadow: 0 1px 2px rgba(60, 64, 67, 0.3), 0 1px 3px 1px rgba(60, 64, 67, 0.15);\n",
              "    fill: var(--button-hover-fill-color);\n",
              "  }\n",
              "\n",
              "  .colab-df-quickchart-complete:disabled,\n",
              "  .colab-df-quickchart-complete:disabled:hover {\n",
              "    background-color: var(--disabled-bg-color);\n",
              "    fill: var(--disabled-fill-color);\n",
              "    box-shadow: none;\n",
              "  }\n",
              "\n",
              "  .colab-df-spinner {\n",
              "    border: 2px solid var(--fill-color);\n",
              "    border-color: transparent;\n",
              "    border-bottom-color: var(--fill-color);\n",
              "    animation:\n",
              "      spin 1s steps(1) infinite;\n",
              "  }\n",
              "\n",
              "  @keyframes spin {\n",
              "    0% {\n",
              "      border-color: transparent;\n",
              "      border-bottom-color: var(--fill-color);\n",
              "      border-left-color: var(--fill-color);\n",
              "    }\n",
              "    20% {\n",
              "      border-color: transparent;\n",
              "      border-left-color: var(--fill-color);\n",
              "      border-top-color: var(--fill-color);\n",
              "    }\n",
              "    30% {\n",
              "      border-color: transparent;\n",
              "      border-left-color: var(--fill-color);\n",
              "      border-top-color: var(--fill-color);\n",
              "      border-right-color: var(--fill-color);\n",
              "    }\n",
              "    40% {\n",
              "      border-color: transparent;\n",
              "      border-right-color: var(--fill-color);\n",
              "      border-top-color: var(--fill-color);\n",
              "    }\n",
              "    60% {\n",
              "      border-color: transparent;\n",
              "      border-right-color: var(--fill-color);\n",
              "    }\n",
              "    80% {\n",
              "      border-color: transparent;\n",
              "      border-right-color: var(--fill-color);\n",
              "      border-bottom-color: var(--fill-color);\n",
              "    }\n",
              "    90% {\n",
              "      border-color: transparent;\n",
              "      border-bottom-color: var(--fill-color);\n",
              "    }\n",
              "  }\n",
              "</style>\n",
              "\n",
              "      <script>\n",
              "        async function quickchart(key) {\n",
              "          const quickchartButtonEl =\n",
              "            document.querySelector('#' + key + ' button');\n",
              "          quickchartButtonEl.disabled = true;  // To prevent multiple clicks.\n",
              "          quickchartButtonEl.classList.add('colab-df-spinner');\n",
              "          try {\n",
              "            const charts = await google.colab.kernel.invokeFunction(\n",
              "                'suggestCharts', [key], {});\n",
              "          } catch (error) {\n",
              "            console.error('Error during call to suggestCharts:', error);\n",
              "          }\n",
              "          quickchartButtonEl.classList.remove('colab-df-spinner');\n",
              "          quickchartButtonEl.classList.add('colab-df-quickchart-complete');\n",
              "        }\n",
              "        (() => {\n",
              "          let quickchartButtonEl =\n",
              "            document.querySelector('#df-2eb79101-2ab6-443d-bb69-d58ddc9ca453 button');\n",
              "          quickchartButtonEl.style.display =\n",
              "            google.colab.kernel.accessAllowed ? 'block' : 'none';\n",
              "        })();\n",
              "      </script>\n",
              "    </div>\n",
              "\n",
              "    </div>\n",
              "  </div>\n"
            ],
            "application/vnd.google.colaboratory.intrinsic+json": {
              "type": "dataframe",
              "variable_name": "df"
            }
          },
          "metadata": {},
          "execution_count": 3
        }
      ],
      "source": [
        "df = load_data()\n",
        "df.head()"
      ]
    },
    {
      "cell_type": "code",
      "execution_count": 4,
      "id": "5ddd0abe-a087-4a31-9eba-566c74d3f6ff",
      "metadata": {
        "colab": {
          "base_uri": "https://localhost:8080/",
          "height": 0
        },
        "id": "5ddd0abe-a087-4a31-9eba-566c74d3f6ff",
        "outputId": "23949ee4-f3fc-45bb-ce38-dc43dc1e3478"
      },
      "outputs": [
        {
          "output_type": "stream",
          "name": "stderr",
          "text": [
            "/tmp/ipython-input-2444791740.py:5: FutureWarning: Support for nested sequences for 'parse_dates' in pd.read_csv is deprecated. Combine the desired columns with pd.to_datetime after parsing instead.\n",
            "  df = pd.read_csv('household_power_consumption.txt',\n",
            "/tmp/ipython-input-2444791740.py:5: FutureWarning: The argument 'infer_datetime_format' is deprecated and will be removed in a future version. A strict version of it is now the default, see https://pandas.pydata.org/pdeps/0004-consistent-to-datetime-parsing.html. You can safely remove this argument.\n",
            "  df = pd.read_csv('household_power_consumption.txt',\n",
            "/tmp/ipython-input-2444791740.py:5: UserWarning: Parsing dates in %d/%m/%Y %H:%M:%S format when dayfirst=False (the default) was specified. Pass `dayfirst=True` or specify a format to silence this warning.\n",
            "  df = pd.read_csv('household_power_consumption.txt',\n"
          ]
        },
        {
          "output_type": "stream",
          "name": "stdout",
          "text": [
            "Data loaded: 2049280 records\n"
          ]
        }
      ],
      "source": [
        "import os\n",
        "from groq import Groq\n",
        "import pandas as pd\n",
        "import matplotlib.pyplot as plt\n",
        "\n",
        "# Initialize Groq client with your API key and model\n",
        "client = Groq(api_key=os.getenv(\"GROQ_API_KEY\"))\n",
        "model = \"llama-3.1-8b-instant\"\n",
        "\n",
        "# Load the dataset into a pandas DataFrame (ensure `load_data()` is defined elsewhere)\n",
        "df = load_data()\n",
        "print(f\"Data loaded: {df.shape[0]} records\")\n",
        "\n",
        "def generate_pandas_code(query, df_description):\n",
        "    \"\"\"\n",
        "    Generates executable pandas code using Groq LLM based on a natural language query.\n",
        "    The prompt includes dataset schema and time range, and instructs the model to respond with clean code.\n",
        "    \"\"\"\n",
        "    system_prompt = f\"\"\"\n",
        "    You are a data analyst with proficient knowledge of pandas, sql and groupby merge and other complex data visualisation methods. Generate pandas code for this query using the DataFrame 'df'.\n",
        "    Dataset description:\n",
        "    - Index: datetime (DateTimeIndex)\n",
        "    - Columns: {', '.join(df.columns)}\n",
        "    - Time range: {df.index.min()} to {df.index.max()}\n",
        "\n",
        "    Rules:\n",
        "    1. Use vectorized operations\n",
        "    2. Handle datetime filtering properly\n",
        "    3. Return ONLY executable code\n",
        "    4. For plots: use matplotlib, include plt.show()\n",
        "    5. Restrict your responses to the questions asked. do not respond with extra or unnecessary details.\n",
        "    \"\"\"\n",
        "\n",
        "    # Send the prompt and query to the LLM to get generated code\n",
        "    response = client.chat.completions.create(\n",
        "        messages=[\n",
        "            {\"role\": \"system\", \"content\": system_prompt},\n",
        "            {\"role\": \"user\", \"content\": query}\n",
        "        ],\n",
        "        model=model,\n",
        "        temperature=0.1  # Low temperature for deterministic output\n",
        "    )\n",
        "\n",
        "    # Return only the content of the first completion\n",
        "    return response.choices[0].message.content\n",
        "\n",
        "def execute_query(query):\n",
        "    \"\"\"\n",
        "    Executes user query by:\n",
        "    1. Generating pandas code from the query using LLM\n",
        "    2. Parsing and extracting the code block\n",
        "    3. Executing the code safely with access to 'df' and 'plt'\n",
        "    \"\"\"\n",
        "    print(f\"Query: {query}\")\n",
        "    code = generate_pandas_code(query, df.describe())\n",
        "\n",
        "    print(\"Generated Code:\")\n",
        "    print(code)\n",
        "\n",
        "    # Extract code block from markdown format (```python ... ```)\n",
        "    if \"```python\" in code and \"```\" in code:\n",
        "        start = code.find(\"```python\") + len(\"```python\")\n",
        "        end = code.find(\"```\", start)\n",
        "        code = code[start:end].strip()\n",
        "    else:\n",
        "        print(\"Warning: Code block not found. Using full code.\")\n",
        "        code = code.strip()\n",
        "\n",
        "    try:\n",
        "        # Execute the generated code in a controlled environment\n",
        "        exec_globals = {'df': df, 'plt': plt}\n",
        "        exec(code, exec_globals)\n",
        "        print(\"Execution Successful!\")\n",
        "    except Exception as e:\n",
        "        print(f\"Error: {str(e)}\")\n"
      ]
    },
    {
      "cell_type": "code",
      "execution_count": 5,
      "id": "4bdf173b-6f91-42bb-b88c-76173dc7faf1",
      "metadata": {
        "colab": {
          "base_uri": "https://localhost:8080/",
          "height": 0
        },
        "id": "4bdf173b-6f91-42bb-b88c-76173dc7faf1",
        "outputId": "04ecd7ad-1fff-4c17-e563-9499d625e3cf"
      },
      "outputs": [
        {
          "output_type": "stream",
          "name": "stdout",
          "text": [
            "Query: What was the average active power consumption in March 2007?\n",
            "Generated Code:\n",
            "```python\n",
            "import pandas as pd\n",
            "\n",
            "# Assuming df is your DataFrame\n",
            "df['date'] = df.index.date\n",
            "avg_active_power_march_2007 = df[(df['date'].dt.year == 2007) & (df['date'].dt.month == 3)]['Global_active_power'].mean()\n",
            "\n",
            "print(avg_active_power_march_2007)\n",
            "```\n",
            "Error: Can only use .dt accessor with datetimelike values\n"
          ]
        }
      ],
      "source": [
        "# Query 1: Average active power in March 2007\n",
        "execute_query(\"What was the average active power consumption in March 2007?\")"
      ]
    },
    {
      "cell_type": "code",
      "execution_count": 6,
      "id": "f432e989-5fd8-479e-b402-1ba0bbeae8b9",
      "metadata": {
        "colab": {
          "base_uri": "https://localhost:8080/",
          "height": 0
        },
        "id": "f432e989-5fd8-479e-b402-1ba0bbeae8b9",
        "outputId": "e5c1b704-2092-49df-910d-b41d27a4ceb7"
      },
      "outputs": [
        {
          "output_type": "stream",
          "name": "stdout",
          "text": [
            "Query: What hour of the day had the highest power usage on Christmas 2006? Return the hour (0-23).\n",
            "Generated Code:\n",
            "```python\n",
            "import pandas as pd\n",
            "\n",
            "# Assuming df is your DataFrame\n",
            "# Filter for Christmas 2006\n",
            "christmas_2006 = df[(df.index.year == 2006) & (df.index.month == 12) & (df.index.day == 25)]\n",
            "\n",
            "# Extract hour from datetime index\n",
            "christmas_2006['hour'] = christmas_2006.index.hour\n",
            "\n",
            "# Group by hour and find the hour with the highest power usage\n",
            "max_power_hour = christmas_2006.groupby('hour')['Global_active_power'].sum().idxmax()\n",
            "\n",
            "print(max_power_hour)\n",
            "```\n",
            "22\n",
            "Execution Successful!\n"
          ]
        },
        {
          "output_type": "stream",
          "name": "stderr",
          "text": [
            "<string>:8: SettingWithCopyWarning: \n",
            "A value is trying to be set on a copy of a slice from a DataFrame.\n",
            "Try using .loc[row_indexer,col_indexer] = value instead\n",
            "\n",
            "See the caveats in the documentation: https://pandas.pydata.org/pandas-docs/stable/user_guide/indexing.html#returning-a-view-versus-a-copy\n"
          ]
        }
      ],
      "source": [
        "# Query 2: Peak hour on Christmas 2006\n",
        "execute_query(\"What hour of the day had the highest power usage on Christmas 2006? Return the hour (0-23).\")"
      ]
    },
    {
      "cell_type": "code",
      "execution_count": 7,
      "id": "6189a1b3-eb75-4e2f-97ff-c344a30659b4",
      "metadata": {
        "colab": {
          "base_uri": "https://localhost:8080/",
          "height": 1000
        },
        "id": "6189a1b3-eb75-4e2f-97ff-c344a30659b4",
        "outputId": "89a41044-20e8-44e2-a342-e548db3a714c"
      },
      "outputs": [
        {
          "output_type": "stream",
          "name": "stdout",
          "text": [
            "Query: Compare average energy usage (Global_active_power) on weekdays vs weekends.\n",
            "Generated Code:\n",
            "```python\n",
            "import pandas as pd\n",
            "import matplotlib.pyplot as plt\n",
            "\n",
            "# Assuming df is your DataFrame\n",
            "\n",
            "# Convert date column to datetime\n",
            "df['date'] = pd.to_datetime(df['date'])\n",
            "\n",
            "# Extract day of week (0 = Monday, 1 = Tuesday, ..., 6 = Sunday)\n",
            "df['day_of_week'] = df['date'].dt.dayofweek\n",
            "\n",
            "# Map day of week to weekday/weekend\n",
            "df['is_weekend'] = df['day_of_week'].apply(lambda x: 1 if x >= 5 else 0)\n",
            "\n",
            "# Group by is_weekend and calculate average Global_active_power\n",
            "weekend_avg = df[df['is_weekend'] == 1]['Global_active_power'].mean()\n",
            "weekday_avg = df[df['is_weekend'] == 0]['Global_active_power'].mean()\n",
            "\n",
            "print(f'Average energy usage on weekends: {weekend_avg} kW')\n",
            "print(f'Average energy usage on weekdays: {weekday_avg} kW')\n",
            "\n",
            "# Plot average energy usage on weekdays vs weekends\n",
            "plt.figure(figsize=(10, 6))\n",
            "plt.bar(['Weekdays', 'Weekends'], [weekday_avg, weekend_avg])\n",
            "plt.xlabel('Day of Week')\n",
            "plt.ylabel('Average Energy Usage (kW)')\n",
            "plt.title('Average Energy Usage on Weekdays vs Weekends')\n",
            "plt.show()\n",
            "```\n",
            "Average energy usage on weekends: 1.234232176791304 kW\n",
            "Average energy usage on weekdays: 1.0354720516747509 kW\n"
          ]
        },
        {
          "output_type": "display_data",
          "data": {
            "text/plain": [
              "<Figure size 1000x600 with 1 Axes>"
            ],
            "image/png": "[encoded data removed]"
          },
          "metadata": {}
        },
        {
          "output_type": "stream",
          "name": "stdout",
          "text": [
            "Execution Successful!\n"
          ]
        }
      ],
      "source": [
        "# Query 3: Weekdays vs weekends\n",
        "execute_query(\"Compare average energy usage (Global_active_power) on weekdays vs weekends.\")"
      ]
    },
    {
      "cell_type": "code",
      "execution_count": 8,
      "id": "c9753cdb-6168-4d2c-929b-89d14a1155ab",
      "metadata": {
        "colab": {
          "base_uri": "https://localhost:8080/",
          "height": 0
        },
        "id": "c9753cdb-6168-4d2c-929b-89d14a1155ab",
        "outputId": "20ab9917-8a22-4881-d845-e1561d3f04f9"
      },
      "outputs": [
        {
          "output_type": "stream",
          "name": "stdout",
          "text": [
            "Query: Find days where daily energy consumption exceeded 5 kWh. Return dates and consumption values.\n",
            "Generated Code:\n",
            "```python\n",
            "# Filter days where daily energy consumption exceeded 5 kWh\n",
            "exceeded_days = df.resample('D').sum().reset_index()\n",
            "exceeded_days = exceeded_days[exceeded_days['Global_active_power'] > 5]\n",
            "\n",
            "# Select only the required columns\n",
            "result = exceeded_days[['date', 'Global_active_power']]\n",
            "\n",
            "print(result)\n",
            "```\n",
            "\n",
            "This code first resamples the data by day to calculate the daily sum of 'Global_active_power'. It then filters the result to include only days where the daily energy consumption exceeded 5 kWh. Finally, it selects only the 'date' and 'Global_active_power' columns for the final result.\n",
            "Error: datetime64 type does not support sum operations\n"
          ]
        }
      ],
      "source": [
        "# Query 4: High consumption days\n",
        "execute_query(\"Find days where daily energy consumption exceeded 5 kWh. Return dates and consumption values.\")"
      ]
    },
    {
      "cell_type": "code",
      "execution_count": 9,
      "id": "cbcf5fbe-540c-48f5-a0c4-878057a126e6",
      "metadata": {
        "colab": {
          "base_uri": "https://localhost:8080/",
          "height": 929
        },
        "id": "cbcf5fbe-540c-48f5-a0c4-878057a126e6",
        "outputId": "6c53823a-d6cc-4905-c2d5-f58c398630e3"
      },
      "outputs": [
        {
          "output_type": "stream",
          "name": "stdout",
          "text": [
            "Query: Plot the energy usage trend for the first week of January 2007. Use line plot with datetime on x-axis.\n",
            "Generated Code:\n",
            "```python\n",
            "import matplotlib.pyplot as plt\n",
            "\n",
            "# Filter the data for the first week of January 2007\n",
            "first_week_jan_2007 = df[(df['date'].dt.year == 2007) & \n",
            "                        (df['date'].dt.month == 1) & \n",
            "                        (df['date'].dt.day >= 1) & \n",
            "                        (df['date'].dt.day <= 7)]\n",
            "\n",
            "# Plot the energy usage trend\n",
            "plt.figure(figsize=(10,6))\n",
            "plt.plot(first_week_jan_2007.index, first_week_jan_2007['Global_active_power'], label='Global Active Power')\n",
            "plt.xlabel('Date')\n",
            "plt.ylabel('Global Active Power (kW)')\n",
            "plt.title('Energy Usage Trend for the First Week of January 2007')\n",
            "plt.legend()\n",
            "plt.show()\n",
            "```\n"
          ]
        },
        {
          "output_type": "display_data",
          "data": {
            "text/plain": [
              "<Figure size 1000x600 with 1 Axes>"
            ],
            "image/png": "[encoded data removed]"
          },
          "metadata": {}
        },
        {
          "output_type": "stream",
          "name": "stdout",
          "text": [
            "Execution Successful!\n"
          ]
        }
      ],
      "source": [
        "# Query 5: January 2007 trend plot\n",
        "execute_query(\"Plot the energy usage trend for the first week of January 2007. Use line plot with datetime on x-axis.\")"
      ]
    },
    {
      "cell_type": "code",
      "execution_count": 10,
      "id": "bacb8da0-1e3c-40cb-9efc-27a4de30573c",
      "metadata": {
        "colab": {
          "base_uri": "https://localhost:8080/",
          "height": 0
        },
        "id": "bacb8da0-1e3c-40cb-9efc-27a4de30573c",
        "outputId": "b49986ad-a066-462b-f482-9575b6150aa9"
      },
      "outputs": [
        {
          "output_type": "stream",
          "name": "stdout",
          "text": [
            "Query: Find the average voltage for each day of the first week of February 2007.\n",
            "Generated Code:\n",
            "```python\n",
            "# Filter the data for the first week of February 2007\n",
            "first_week_february_2007 = df[(df.index.year == 2007) & (df.index.month == 2) & (df.index.day >= 1) & (df.index.day <= 7)]\n",
            "\n",
            "# Calculate the average voltage for each day\n",
            "average_voltage_per_day = first_week_february_2007.groupby('day_of_week')['Voltage'].mean()\n",
            "\n",
            "# Print the result\n",
            "print(average_voltage_per_day)\n",
            "```\n",
            "\n",
            "This code will return a pandas Series with the average voltage for each day of the week in the first week of February 2007.\n",
            "day_of_week\n",
            "0    240.810312\n",
            "1    241.264160\n",
            "2    241.149694\n",
            "3    240.392139\n",
            "4    240.334389\n",
            "5    238.910194\n",
            "6    239.633333\n",
            "Name: Voltage, dtype: float64\n",
            "Execution Successful!\n"
          ]
        }
      ],
      "source": [
        "# Query 6: Average voltage in February 2007\n",
        "execute_query(\"Find the average voltage for each day of the first week of February 2007.\")"
      ]
    },
    {
      "cell_type": "code",
      "execution_count": 11,
      "id": "98a8d232-abef-48aa-8207-dcf9a0faccaa",
      "metadata": {
        "colab": {
          "base_uri": "https://localhost:8080/",
          "height": 981
        },
        "id": "98a8d232-abef-48aa-8207-dcf9a0faccaa",
        "outputId": "08ca7ecc-4092-4b4e-94bb-f01413293ba8"
      },
      "outputs": [
        {
          "output_type": "stream",
          "name": "stdout",
          "text": [
            "Query: Calculate correlation between Global_active_power and sub-metering columns (Sub_metering_1, Sub_metering_2, Sub_metering_3).\n",
            "Generated Code:\n",
            "```python\n",
            "import pandas as pd\n",
            "import matplotlib.pyplot as plt\n",
            "\n",
            "# Calculate correlation between Global_active_power and sub-metering columns\n",
            "correlation = df[['Global_active_power', 'Sub_metering_1', 'Sub_metering_2', 'Sub_metering_3']].corr()['Global_active_power'].drop('Global_active_power')\n",
            "\n",
            "print(correlation)\n",
            "\n",
            "# Plot the correlation matrix\n",
            "plt.figure(figsize=(10,6))\n",
            "plt.bar(correlation.index, correlation.values)\n",
            "plt.xlabel('Sub-metering Columns')\n",
            "plt.ylabel('Correlation Coefficient')\n",
            "plt.title('Correlation between Global_active_power and Sub-metering Columns')\n",
            "plt.show()\n",
            "```\n",
            "Sub_metering_1    0.484401\n",
            "Sub_metering_2    0.434569\n",
            "Sub_metering_3    0.638555\n",
            "Name: Global_active_power, dtype: float64\n"
          ]
        },
        {
          "output_type": "display_data",
          "data": {
            "text/plain": [
              "<Figure size 1000x600 with 1 Axes>"
            ],
            "image/png": "[encoded data removed]"
          },
          "metadata": {}
        },
        {
          "output_type": "stream",
          "name": "stdout",
          "text": [
            "Execution Successful!\n"
          ]
        }
      ],
      "source": [
        "# Query 7: Correlation analysis\n",
        "execute_query(\"Calculate correlation between Global_active_power and sub-metering columns (Sub_metering_1, Sub_metering_2, Sub_metering_3).\")"
      ]
    }
  ],
  "metadata": {
    "kernelspec": {
      "display_name": "Python 3 (ipykernel)",
      "language": "python",
      "name": "python3"
    },
    "language_info": {
      "codemirror_mode": {
        "name": "ipython",
        "version": 3
      },
      "file_extension": ".py",
      "mimetype": "text/x-python",
      "name": "python",
      "nbconvert_exporter": "python",
      "pygments_lexer": "ipython3",
      "version": "3.12.7"
    },
    "colab": {
      "provenance": []
    }
  },
  "nbformat": 4,
  "nbformat_minor": 5
}